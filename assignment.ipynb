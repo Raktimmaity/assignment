{
 "cells": [
  {
   "cell_type": "markdown",
   "id": "cef27bca-dd94-49c8-8937-72991cebe773",
   "metadata": {},
   "source": [
    "Question No. 1"
   ]
  },
  {
   "cell_type": "code",
   "execution_count": 1,
   "id": "2d455dfb-5cb1-4d95-9fcc-24487eaa9103",
   "metadata": {},
   "outputs": [
    {
     "name": "stdout",
     "output_type": "stream",
     "text": [
      "2\n"
     ]
    }
   ],
   "source": [
    "a = 2\n",
    "print(a)"
   ]
  },
  {
   "cell_type": "code",
   "execution_count": 2,
   "id": "e0432435-d884-441e-bbd4-c1e908728e94",
   "metadata": {},
   "outputs": [
    {
     "name": "stdout",
     "output_type": "stream",
     "text": [
      "34\n"
     ]
    }
   ],
   "source": [
    "myname = 34\n",
    "print(myname)"
   ]
  },
  {
   "cell_type": "code",
   "execution_count": 3,
   "id": "a18fab0c-5379-4ee7-8309-23203bfebdc0",
   "metadata": {},
   "outputs": [
    {
     "name": "stdout",
     "output_type": "stream",
     "text": [
      "5\n"
     ]
    }
   ],
   "source": [
    "Myname = 5\n",
    "print(Myname)"
   ]
  },
  {
   "cell_type": "code",
   "execution_count": 4,
   "id": "dabae8d3-2657-4343-b309-d0a65441c6bb",
   "metadata": {},
   "outputs": [
    {
     "name": "stdout",
     "output_type": "stream",
     "text": [
      "6\n"
     ]
    }
   ],
   "source": [
    "My_name = 6\n",
    "print(My_name)"
   ]
  },
  {
   "cell_type": "code",
   "execution_count": 5,
   "id": "b3907ed3-db6b-4332-b706-eb93254e91e7",
   "metadata": {},
   "outputs": [
    {
     "name": "stdout",
     "output_type": "stream",
     "text": [
      "8\n"
     ]
    }
   ],
   "source": [
    "My_Name = 8\n",
    "print(My_Name)"
   ]
  },
  {
   "cell_type": "code",
   "execution_count": 6,
   "id": "58534c55-b1c1-46cd-b58a-6ca2dde41a22",
   "metadata": {},
   "outputs": [
    {
     "name": "stdout",
     "output_type": "stream",
     "text": [
      "2\n"
     ]
    }
   ],
   "source": [
    "my_name_01 = 2\n",
    "print(my_name_01)"
   ]
  },
  {
   "cell_type": "markdown",
   "id": "7a576cbf-6c70-425d-bfab-ad4d5eb7b95f",
   "metadata": {},
   "source": [
    "Question 2"
   ]
  },
  {
   "cell_type": "markdown",
   "id": "b9f6f592-bdaa-4439-a618-86594a8d2f3a",
   "metadata": {},
   "source": [
    "If i create a restrict keyword in python it throws an error (syntax error)\n",
    "\n",
    "for example:"
   ]
  },
  {
   "cell_type": "code",
   "execution_count": 7,
   "id": "522abf8d-f789-4929-b836-19962cf10f16",
   "metadata": {},
   "outputs": [
    {
     "ename": "SyntaxError",
     "evalue": "invalid syntax (2885353623.py, line 3)",
     "output_type": "error",
     "traceback": [
      "\u001b[0;36m  Cell \u001b[0;32mIn[7], line 3\u001b[0;36m\u001b[0m\n\u001b[0;31m    if = 6\u001b[0m\n\u001b[0m       ^\u001b[0m\n\u001b[0;31mSyntaxError\u001b[0m\u001b[0;31m:\u001b[0m invalid syntax\n"
     ]
    }
   ],
   "source": [
    "# Question 2 answer\n",
    "\n",
    "if = 6\n",
    "print(if)"
   ]
  },
  {
   "cell_type": "markdown",
   "id": "4d586c66-559d-4d62-9276-de65a47abd35",
   "metadata": {},
   "source": [
    "Question 3"
   ]
  },
  {
   "cell_type": "raw",
   "id": "e010cba5-4dc9-494f-b7fd-aa31ba73b183",
   "metadata": {},
   "source": [
    "yes, we can declare a string as a variable name.\n",
    "\n",
    "for example:"
   ]
  },
  {
   "cell_type": "code",
   "execution_count": 8,
   "id": "9c6f3d22-aab4-44c2-a7d3-11a37472bfe0",
   "metadata": {},
   "outputs": [
    {
     "name": "stdout",
     "output_type": "stream",
     "text": [
      "variable\n",
      "6\n"
     ]
    }
   ],
   "source": [
    "Variable_name = \"variable\"\n",
    "Value = 6\n",
    "print(Variable_name)\n",
    "print(Value)"
   ]
  },
  {
   "cell_type": "markdown",
   "id": "948417f0-8dd2-4db0-afb6-b564903b991e",
   "metadata": {},
   "source": [
    "Question 4"
   ]
  },
  {
   "cell_type": "raw",
   "id": "69386757-8b6d-4eed-927d-cf4d5f0f2fe0",
   "metadata": {},
   "source": [
    "Yes, it is possible to declare \"_\" as a variable. \n",
    "\n",
    "for example:"
   ]
  },
  {
   "cell_type": "code",
   "execution_count": 9,
   "id": "144c3ce9-6c96-4d23-9ddc-6276ada52b86",
   "metadata": {},
   "outputs": [
    {
     "name": "stdout",
     "output_type": "stream",
     "text": [
      "23\n"
     ]
    }
   ],
   "source": [
    "_ = 23\n",
    "print(_)"
   ]
  },
  {
   "cell_type": "markdown",
   "id": "18bb098c-b392-4fe2-a6c6-1d556bffba39",
   "metadata": {},
   "source": [
    "Question 5"
   ]
  },
  {
   "cell_type": "code",
   "execution_count": 11,
   "id": "fc13c6ed-2b47-4898-ab2a-07427b74b052",
   "metadata": {},
   "outputs": [
    {
     "name": "stdout",
     "output_type": "stream",
     "text": [
      "25\n",
      "45\n"
     ]
    }
   ],
   "source": [
    "a = 25\n",
    "print(a) # 25 will assign to the variable \"a\"\n",
    "a = 45\n",
    "print(a) # 45 that is new value. It will be assign to variable \"a\". The new value(25) will be overwrite to the old value(45)."
   ]
  },
  {
   "cell_type": "code",
   "execution_count": null,
   "id": "a07b1cc8-a451-4cd9-8883-7f7739dc5bb8",
   "metadata": {},
   "outputs": [],
   "source": []
  }
 ],
 "metadata": {
  "kernelspec": {
   "display_name": "Python 3 (ipykernel)",
   "language": "python",
   "name": "python3"
  },
  "language_info": {
   "codemirror_mode": {
    "name": "ipython",
    "version": 3
   },
   "file_extension": ".py",
   "mimetype": "text/x-python",
   "name": "python",
   "nbconvert_exporter": "python",
   "pygments_lexer": "ipython3",
   "version": "3.10.8"
  }
 },
 "nbformat": 4,
 "nbformat_minor": 5
}
